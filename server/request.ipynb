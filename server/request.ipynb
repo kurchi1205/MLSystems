{
 "cells": [
  {
   "cell_type": "markdown",
   "metadata": {},
   "source": [
    "Usage:\n",
    "1. Run `python api.py --init-quota 200 --max-generated-tokens 50` to start the server.\n",
    "2. Run this script to test the server.\n",
    "\n",
    "You MUST keep the logs of this file in your submission."
   ]
  },
  {
   "cell_type": "code",
   "execution_count": 1,
   "metadata": {},
   "outputs": [],
   "source": [
    "import asyncio\n",
    "import random\n",
    "import time\n",
    "import aiohttp\n",
    "from typing import Dict"
   ]
  },
  {
   "cell_type": "code",
   "execution_count": 2,
   "metadata": {},
   "outputs": [],
   "source": [
    "\n",
    "\n",
    "class AsyncLLMServiceTester:\n",
    "    def __init__(self, base_url: str = \"http://localhost:8000\"):\n",
    "        self.base_url = base_url.rstrip(\"/\")\n",
    "        self.session = None\n",
    "\n",
    "    async def __aenter__(self):\n",
    "        self.session = aiohttp.ClientSession()\n",
    "        return self\n",
    "\n",
    "    async def __aexit__(self, exc_type, exc_val, exc_tb):\n",
    "        if self.session:\n",
    "            await self.session.close()\n",
    "\n",
    "    async def generate(self, prompt: str) -> Dict:\n",
    "        \"\"\"generate response\"\"\"\n",
    "        # TODO: generate function call\n",
    "        # you need to post a request to the server\n",
    "        # and parse the response in async way\n",
    "        # the response is a json with the following format:\n",
    "        # {\n",
    "        #     \"status\": \"success\" or \"error\",\n",
    "        #     \"text\": \"the generated text\"\n",
    "        # }\n",
    "        # ==== start your code here ====\n",
    "        data = {\n",
    "            \"prompt\": prompt\n",
    "        }\n",
    "        async with self.session as session:\n",
    "            async with session.post(self.base_url + \"/generate\", data=data) as response:\n",
    "                status = response.status\n",
    "                text = await response.text()\n",
    "                result = {\n",
    "                    \"status\": status,\n",
    "                    \"text\": text\n",
    "                }\n",
    "        return result\n",
    "        # ==== end of your code ====\n",
    "\n",
    "    async def process_test_case(self, test_case: Dict) -> Dict:\n",
    "        \"\"\"Process a single test case\"\"\"\n",
    "\n",
    "        await asyncio.sleep(random.uniform(0, 2))  # random delay\n",
    "        print(f\"Submitting test case: {test_case['prompt']}\")\n",
    "\n",
    "        start_time = time.time()\n",
    "        result = await self.generate(test_case[\"prompt\"])\n",
    "        end_time = time.time()\n",
    "\n",
    "        return {\n",
    "            \"test_case\": test_case,\n",
    "            \"result\": result,\n",
    "            \"time_taken\": end_time - start_time,\n",
    "        }"
   ]
  },
  {
   "cell_type": "code",
   "execution_count": 3,
   "metadata": {},
   "outputs": [
    {
     "name": "stdout",
     "output_type": "stream",
     "text": [
      "Starting test with 5 test cases...\n",
      "Submitting test case: Write a recipe for chocolate cake.\n"
     ]
    },
    {
     "ename": "ClientConnectorError",
     "evalue": "Cannot connect to host localhost:8000 ssl:default [Multiple exceptions: [Errno 61] Connect call failed ('::1', 8000, 0, 0), [Errno 61] Connect call failed ('127.0.0.1', 8000)]",
     "output_type": "error",
     "traceback": [
      "\u001b[0;31m---------------------------------------------------------------------------\u001b[0m",
      "\u001b[0;31mConnectionRefusedError\u001b[0m                    Traceback (most recent call last)",
      "File \u001b[0;32m~/miniconda3/envs/mlsys/lib/python3.11/site-packages/aiohttp/connector.py:1091\u001b[0m, in \u001b[0;36mTCPConnector._wrap_create_connection\u001b[0;34m(self, addr_infos, req, timeout, client_error, *args, **kwargs)\u001b[0m\n\u001b[1;32m   1088\u001b[0m \u001b[38;5;28;01masync\u001b[39;00m \u001b[38;5;28;01mwith\u001b[39;00m ceil_timeout(\n\u001b[1;32m   1089\u001b[0m     timeout\u001b[38;5;241m.\u001b[39msock_connect, ceil_threshold\u001b[38;5;241m=\u001b[39mtimeout\u001b[38;5;241m.\u001b[39mceil_threshold\n\u001b[1;32m   1090\u001b[0m ):\n\u001b[0;32m-> 1091\u001b[0m     sock \u001b[38;5;241m=\u001b[39m \u001b[38;5;28;01mawait\u001b[39;00m aiohappyeyeballs\u001b[38;5;241m.\u001b[39mstart_connection(\n\u001b[1;32m   1092\u001b[0m         addr_infos\u001b[38;5;241m=\u001b[39maddr_infos,\n\u001b[1;32m   1093\u001b[0m         local_addr_infos\u001b[38;5;241m=\u001b[39m\u001b[38;5;28mself\u001b[39m\u001b[38;5;241m.\u001b[39m_local_addr_infos,\n\u001b[1;32m   1094\u001b[0m         happy_eyeballs_delay\u001b[38;5;241m=\u001b[39m\u001b[38;5;28mself\u001b[39m\u001b[38;5;241m.\u001b[39m_happy_eyeballs_delay,\n\u001b[1;32m   1095\u001b[0m         interleave\u001b[38;5;241m=\u001b[39m\u001b[38;5;28mself\u001b[39m\u001b[38;5;241m.\u001b[39m_interleave,\n\u001b[1;32m   1096\u001b[0m         loop\u001b[38;5;241m=\u001b[39m\u001b[38;5;28mself\u001b[39m\u001b[38;5;241m.\u001b[39m_loop,\n\u001b[1;32m   1097\u001b[0m     )\n\u001b[1;32m   1098\u001b[0m     \u001b[38;5;28;01mreturn\u001b[39;00m \u001b[38;5;28;01mawait\u001b[39;00m \u001b[38;5;28mself\u001b[39m\u001b[38;5;241m.\u001b[39m_loop\u001b[38;5;241m.\u001b[39mcreate_connection(\u001b[38;5;241m*\u001b[39margs, \u001b[38;5;241m*\u001b[39m\u001b[38;5;241m*\u001b[39mkwargs, sock\u001b[38;5;241m=\u001b[39msock)\n",
      "File \u001b[0;32m~/miniconda3/envs/mlsys/lib/python3.11/site-packages/aiohappyeyeballs/impl.py:123\u001b[0m, in \u001b[0;36mstart_connection\u001b[0;34m(addr_infos, local_addr_infos, happy_eyeballs_delay, interleave, loop)\u001b[0m\n\u001b[1;32m    119\u001b[0m     \u001b[38;5;28;01mif\u001b[39;00m \u001b[38;5;28mall\u001b[39m(\n\u001b[1;32m    120\u001b[0m         \u001b[38;5;28misinstance\u001b[39m(exc, \u001b[38;5;167;01mOSError\u001b[39;00m) \u001b[38;5;129;01mand\u001b[39;00m exc\u001b[38;5;241m.\u001b[39merrno \u001b[38;5;241m==\u001b[39m first_errno\n\u001b[1;32m    121\u001b[0m         \u001b[38;5;28;01mfor\u001b[39;00m exc \u001b[38;5;129;01min\u001b[39;00m all_exceptions\n\u001b[1;32m    122\u001b[0m     ):\n\u001b[0;32m--> 123\u001b[0m         \u001b[38;5;28;01mraise\u001b[39;00m \u001b[38;5;167;01mOSError\u001b[39;00m(first_errno, msg)\n\u001b[1;32m    124\u001b[0m \u001b[38;5;28;01melif\u001b[39;00m \u001b[38;5;28misinstance\u001b[39m(first_exception, \u001b[38;5;167;01mRuntimeError\u001b[39;00m) \u001b[38;5;129;01mand\u001b[39;00m \u001b[38;5;28mall\u001b[39m(\n\u001b[1;32m    125\u001b[0m     \u001b[38;5;28misinstance\u001b[39m(exc, \u001b[38;5;167;01mRuntimeError\u001b[39;00m) \u001b[38;5;28;01mfor\u001b[39;00m exc \u001b[38;5;129;01min\u001b[39;00m all_exceptions\n\u001b[1;32m    126\u001b[0m ):\n",
      "\u001b[0;31mConnectionRefusedError\u001b[0m: [Errno 61] Multiple exceptions: [Errno 61] Connect call failed ('::1', 8000, 0, 0), [Errno 61] Connect call failed ('127.0.0.1', 8000)",
      "\nThe above exception was the direct cause of the following exception:\n",
      "\u001b[0;31mClientConnectorError\u001b[0m                      Traceback (most recent call last)",
      "Cell \u001b[0;32mIn[3], line 39\u001b[0m\n\u001b[1;32m     35\u001b[0m     \u001b[38;5;28mprint\u001b[39m(\u001b[38;5;124mf\u001b[39m\u001b[38;5;124m\"\u001b[39m\u001b[38;5;124mAverage time per request: \u001b[39m\u001b[38;5;132;01m{\u001b[39;00mtotal_time\u001b[38;5;241m/\u001b[39m\u001b[38;5;28mlen\u001b[39m(test_cases)\u001b[38;5;132;01m:\u001b[39;00m\u001b[38;5;124m.2f\u001b[39m\u001b[38;5;132;01m}\u001b[39;00m\u001b[38;5;124m seconds\u001b[39m\u001b[38;5;124m\"\u001b[39m)\n\u001b[1;32m     36\u001b[0m     \u001b[38;5;28mprint\u001b[39m(\u001b[38;5;124mf\u001b[39m\u001b[38;5;124m\"\u001b[39m\u001b[38;5;132;01m{\u001b[39;00m\u001b[38;5;124m'\u001b[39m\u001b[38;5;124m=\u001b[39m\u001b[38;5;124m'\u001b[39m\u001b[38;5;241m*\u001b[39m\u001b[38;5;241m50\u001b[39m\u001b[38;5;132;01m}\u001b[39;00m\u001b[38;5;130;01m\\n\u001b[39;00m\u001b[38;5;124m\"\u001b[39m)\n\u001b[0;32m---> 39\u001b[0m \u001b[38;5;28;01mawait\u001b[39;00m main()\n",
      "Cell \u001b[0;32mIn[3], line 20\u001b[0m, in \u001b[0;36mmain\u001b[0;34m()\u001b[0m\n\u001b[1;32m     15\u001b[0m     submit_coroutines \u001b[38;5;241m=\u001b[39m [\n\u001b[1;32m     16\u001b[0m         tester\u001b[38;5;241m.\u001b[39mprocess_test_case(test_case) \u001b[38;5;28;01mfor\u001b[39;00m test_case \u001b[38;5;129;01min\u001b[39;00m test_cases\n\u001b[1;32m     17\u001b[0m     ]\n\u001b[1;32m     19\u001b[0m     \u001b[38;5;66;03m# run all submit coroutines\u001b[39;00m\n\u001b[0;32m---> 20\u001b[0m     results \u001b[38;5;241m=\u001b[39m \u001b[38;5;28;01mawait\u001b[39;00m asyncio\u001b[38;5;241m.\u001b[39mgather(\u001b[38;5;241m*\u001b[39msubmit_coroutines)\n\u001b[1;32m     22\u001b[0m total_time \u001b[38;5;241m=\u001b[39m time\u001b[38;5;241m.\u001b[39mtime() \u001b[38;5;241m-\u001b[39m start_time\n\u001b[1;32m     24\u001b[0m \u001b[38;5;66;03m# print results\u001b[39;00m\n",
      "Cell \u001b[0;32mIn[2], line 49\u001b[0m, in \u001b[0;36mAsyncLLMServiceTester.process_test_case\u001b[0;34m(self, test_case)\u001b[0m\n\u001b[1;32m     46\u001b[0m \u001b[38;5;28mprint\u001b[39m(\u001b[38;5;124mf\u001b[39m\u001b[38;5;124m\"\u001b[39m\u001b[38;5;124mSubmitting test case: \u001b[39m\u001b[38;5;132;01m{\u001b[39;00mtest_case[\u001b[38;5;124m'\u001b[39m\u001b[38;5;124mprompt\u001b[39m\u001b[38;5;124m'\u001b[39m]\u001b[38;5;132;01m}\u001b[39;00m\u001b[38;5;124m\"\u001b[39m)\n\u001b[1;32m     48\u001b[0m start_time \u001b[38;5;241m=\u001b[39m time\u001b[38;5;241m.\u001b[39mtime()\n\u001b[0;32m---> 49\u001b[0m result \u001b[38;5;241m=\u001b[39m \u001b[38;5;28;01mawait\u001b[39;00m \u001b[38;5;28mself\u001b[39m\u001b[38;5;241m.\u001b[39mgenerate(test_case[\u001b[38;5;124m\"\u001b[39m\u001b[38;5;124mprompt\u001b[39m\u001b[38;5;124m\"\u001b[39m])\n\u001b[1;32m     50\u001b[0m end_time \u001b[38;5;241m=\u001b[39m time\u001b[38;5;241m.\u001b[39mtime()\n\u001b[1;32m     52\u001b[0m \u001b[38;5;28;01mreturn\u001b[39;00m {\n\u001b[1;32m     53\u001b[0m     \u001b[38;5;124m\"\u001b[39m\u001b[38;5;124mtest_case\u001b[39m\u001b[38;5;124m\"\u001b[39m: test_case,\n\u001b[1;32m     54\u001b[0m     \u001b[38;5;124m\"\u001b[39m\u001b[38;5;124mresult\u001b[39m\u001b[38;5;124m\"\u001b[39m: result,\n\u001b[1;32m     55\u001b[0m     \u001b[38;5;124m\"\u001b[39m\u001b[38;5;124mtime_taken\u001b[39m\u001b[38;5;124m\"\u001b[39m: end_time \u001b[38;5;241m-\u001b[39m start_time,\n\u001b[1;32m     56\u001b[0m }\n",
      "Cell \u001b[0;32mIn[2], line 32\u001b[0m, in \u001b[0;36mAsyncLLMServiceTester.generate\u001b[0;34m(self, prompt)\u001b[0m\n\u001b[1;32m     28\u001b[0m data \u001b[38;5;241m=\u001b[39m {\n\u001b[1;32m     29\u001b[0m     \u001b[38;5;124m\"\u001b[39m\u001b[38;5;124mprompt\u001b[39m\u001b[38;5;124m\"\u001b[39m: prompt\n\u001b[1;32m     30\u001b[0m }\n\u001b[1;32m     31\u001b[0m \u001b[38;5;28;01masync\u001b[39;00m \u001b[38;5;28;01mwith\u001b[39;00m \u001b[38;5;28mself\u001b[39m\u001b[38;5;241m.\u001b[39msession \u001b[38;5;28;01mas\u001b[39;00m session:\n\u001b[0;32m---> 32\u001b[0m     \u001b[38;5;28;01masync\u001b[39;00m \u001b[38;5;28;01mwith\u001b[39;00m session\u001b[38;5;241m.\u001b[39mpost(\u001b[38;5;28mself\u001b[39m\u001b[38;5;241m.\u001b[39mbase_url \u001b[38;5;241m+\u001b[39m \u001b[38;5;124m\"\u001b[39m\u001b[38;5;124m/generate\u001b[39m\u001b[38;5;124m\"\u001b[39m, data\u001b[38;5;241m=\u001b[39mdata) \u001b[38;5;28;01mas\u001b[39;00m response:\n\u001b[1;32m     33\u001b[0m         status \u001b[38;5;241m=\u001b[39m response\u001b[38;5;241m.\u001b[39mstatus\n\u001b[1;32m     34\u001b[0m         text \u001b[38;5;241m=\u001b[39m \u001b[38;5;28;01mawait\u001b[39;00m response\u001b[38;5;241m.\u001b[39mtext()\n",
      "File \u001b[0;32m~/miniconda3/envs/mlsys/lib/python3.11/site-packages/aiohttp/client.py:1359\u001b[0m, in \u001b[0;36m_BaseRequestContextManager.__aenter__\u001b[0;34m(self)\u001b[0m\n\u001b[1;32m   1358\u001b[0m \u001b[38;5;28;01masync\u001b[39;00m \u001b[38;5;28;01mdef\u001b[39;00m \u001b[38;5;21m__aenter__\u001b[39m(\u001b[38;5;28mself\u001b[39m) \u001b[38;5;241m-\u001b[39m\u001b[38;5;241m>\u001b[39m _RetType:\n\u001b[0;32m-> 1359\u001b[0m     \u001b[38;5;28mself\u001b[39m\u001b[38;5;241m.\u001b[39m_resp: _RetType \u001b[38;5;241m=\u001b[39m \u001b[38;5;28;01mawait\u001b[39;00m \u001b[38;5;28mself\u001b[39m\u001b[38;5;241m.\u001b[39m_coro\n\u001b[1;32m   1360\u001b[0m     \u001b[38;5;28;01mreturn\u001b[39;00m \u001b[38;5;28;01mawait\u001b[39;00m \u001b[38;5;28mself\u001b[39m\u001b[38;5;241m.\u001b[39m_resp\u001b[38;5;241m.\u001b[39m\u001b[38;5;21m__aenter__\u001b[39m()\n",
      "File \u001b[0;32m~/miniconda3/envs/mlsys/lib/python3.11/site-packages/aiohttp/client.py:663\u001b[0m, in \u001b[0;36mClientSession._request\u001b[0;34m(self, method, str_or_url, params, data, json, cookies, headers, skip_auto_headers, auth, allow_redirects, max_redirects, compress, chunked, expect100, raise_for_status, read_until_eof, proxy, proxy_auth, timeout, verify_ssl, fingerprint, ssl_context, ssl, server_hostname, proxy_headers, trace_request_ctx, read_bufsize, auto_decompress, max_line_size, max_field_size)\u001b[0m\n\u001b[1;32m    658\u001b[0m \u001b[38;5;28;01mtry\u001b[39;00m:\n\u001b[1;32m    659\u001b[0m     \u001b[38;5;28;01masync\u001b[39;00m \u001b[38;5;28;01mwith\u001b[39;00m ceil_timeout(\n\u001b[1;32m    660\u001b[0m         real_timeout\u001b[38;5;241m.\u001b[39mconnect,\n\u001b[1;32m    661\u001b[0m         ceil_threshold\u001b[38;5;241m=\u001b[39mreal_timeout\u001b[38;5;241m.\u001b[39mceil_threshold,\n\u001b[1;32m    662\u001b[0m     ):\n\u001b[0;32m--> 663\u001b[0m         conn \u001b[38;5;241m=\u001b[39m \u001b[38;5;28;01mawait\u001b[39;00m \u001b[38;5;28mself\u001b[39m\u001b[38;5;241m.\u001b[39m_connector\u001b[38;5;241m.\u001b[39mconnect(\n\u001b[1;32m    664\u001b[0m             req, traces\u001b[38;5;241m=\u001b[39mtraces, timeout\u001b[38;5;241m=\u001b[39mreal_timeout\n\u001b[1;32m    665\u001b[0m         )\n\u001b[1;32m    666\u001b[0m \u001b[38;5;28;01mexcept\u001b[39;00m asyncio\u001b[38;5;241m.\u001b[39mTimeoutError \u001b[38;5;28;01mas\u001b[39;00m exc:\n\u001b[1;32m    667\u001b[0m     \u001b[38;5;28;01mraise\u001b[39;00m ConnectionTimeoutError(\n\u001b[1;32m    668\u001b[0m         \u001b[38;5;124mf\u001b[39m\u001b[38;5;124m\"\u001b[39m\u001b[38;5;124mConnection timeout to host \u001b[39m\u001b[38;5;132;01m{\u001b[39;00murl\u001b[38;5;132;01m}\u001b[39;00m\u001b[38;5;124m\"\u001b[39m\n\u001b[1;32m    669\u001b[0m     ) \u001b[38;5;28;01mfrom\u001b[39;00m \u001b[38;5;21;01mexc\u001b[39;00m\n",
      "File \u001b[0;32m~/miniconda3/envs/mlsys/lib/python3.11/site-packages/aiohttp/connector.py:563\u001b[0m, in \u001b[0;36mBaseConnector.connect\u001b[0;34m(self, req, traces, timeout)\u001b[0m\n\u001b[1;32m    560\u001b[0m         \u001b[38;5;28;01mawait\u001b[39;00m trace\u001b[38;5;241m.\u001b[39msend_connection_create_start()\n\u001b[1;32m    562\u001b[0m \u001b[38;5;28;01mtry\u001b[39;00m:\n\u001b[0;32m--> 563\u001b[0m     proto \u001b[38;5;241m=\u001b[39m \u001b[38;5;28;01mawait\u001b[39;00m \u001b[38;5;28mself\u001b[39m\u001b[38;5;241m.\u001b[39m_create_connection(req, traces, timeout)\n\u001b[1;32m    564\u001b[0m     \u001b[38;5;28;01mif\u001b[39;00m \u001b[38;5;28mself\u001b[39m\u001b[38;5;241m.\u001b[39m_closed:\n\u001b[1;32m    565\u001b[0m         proto\u001b[38;5;241m.\u001b[39mclose()\n",
      "File \u001b[0;32m~/miniconda3/envs/mlsys/lib/python3.11/site-packages/aiohttp/connector.py:1032\u001b[0m, in \u001b[0;36mTCPConnector._create_connection\u001b[0;34m(self, req, traces, timeout)\u001b[0m\n\u001b[1;32m   1030\u001b[0m     _, proto \u001b[38;5;241m=\u001b[39m \u001b[38;5;28;01mawait\u001b[39;00m \u001b[38;5;28mself\u001b[39m\u001b[38;5;241m.\u001b[39m_create_proxy_connection(req, traces, timeout)\n\u001b[1;32m   1031\u001b[0m \u001b[38;5;28;01melse\u001b[39;00m:\n\u001b[0;32m-> 1032\u001b[0m     _, proto \u001b[38;5;241m=\u001b[39m \u001b[38;5;28;01mawait\u001b[39;00m \u001b[38;5;28mself\u001b[39m\u001b[38;5;241m.\u001b[39m_create_direct_connection(req, traces, timeout)\n\u001b[1;32m   1034\u001b[0m \u001b[38;5;28;01mreturn\u001b[39;00m proto\n",
      "File \u001b[0;32m~/miniconda3/envs/mlsys/lib/python3.11/site-packages/aiohttp/connector.py:1366\u001b[0m, in \u001b[0;36mTCPConnector._create_direct_connection\u001b[0;34m(self, req, traces, timeout, client_error)\u001b[0m\n\u001b[1;32m   1364\u001b[0m \u001b[38;5;28;01melse\u001b[39;00m:\n\u001b[1;32m   1365\u001b[0m     \u001b[38;5;28;01massert\u001b[39;00m last_exc \u001b[38;5;129;01mis\u001b[39;00m \u001b[38;5;129;01mnot\u001b[39;00m \u001b[38;5;28;01mNone\u001b[39;00m\n\u001b[0;32m-> 1366\u001b[0m     \u001b[38;5;28;01mraise\u001b[39;00m last_exc\n",
      "File \u001b[0;32m~/miniconda3/envs/mlsys/lib/python3.11/site-packages/aiohttp/connector.py:1335\u001b[0m, in \u001b[0;36mTCPConnector._create_direct_connection\u001b[0;34m(self, req, traces, timeout, client_error)\u001b[0m\n\u001b[1;32m   1330\u001b[0m server_hostname \u001b[38;5;241m=\u001b[39m (\n\u001b[1;32m   1331\u001b[0m     (req\u001b[38;5;241m.\u001b[39mserver_hostname \u001b[38;5;129;01mor\u001b[39;00m host)\u001b[38;5;241m.\u001b[39mrstrip(\u001b[38;5;124m\"\u001b[39m\u001b[38;5;124m.\u001b[39m\u001b[38;5;124m\"\u001b[39m) \u001b[38;5;28;01mif\u001b[39;00m sslcontext \u001b[38;5;28;01melse\u001b[39;00m \u001b[38;5;28;01mNone\u001b[39;00m\n\u001b[1;32m   1332\u001b[0m )\n\u001b[1;32m   1334\u001b[0m \u001b[38;5;28;01mtry\u001b[39;00m:\n\u001b[0;32m-> 1335\u001b[0m     transp, proto \u001b[38;5;241m=\u001b[39m \u001b[38;5;28;01mawait\u001b[39;00m \u001b[38;5;28mself\u001b[39m\u001b[38;5;241m.\u001b[39m_wrap_create_connection(\n\u001b[1;32m   1336\u001b[0m         \u001b[38;5;28mself\u001b[39m\u001b[38;5;241m.\u001b[39m_factory,\n\u001b[1;32m   1337\u001b[0m         timeout\u001b[38;5;241m=\u001b[39mtimeout,\n\u001b[1;32m   1338\u001b[0m         ssl\u001b[38;5;241m=\u001b[39msslcontext,\n\u001b[1;32m   1339\u001b[0m         addr_infos\u001b[38;5;241m=\u001b[39maddr_infos,\n\u001b[1;32m   1340\u001b[0m         server_hostname\u001b[38;5;241m=\u001b[39mserver_hostname,\n\u001b[1;32m   1341\u001b[0m         req\u001b[38;5;241m=\u001b[39mreq,\n\u001b[1;32m   1342\u001b[0m         client_error\u001b[38;5;241m=\u001b[39mclient_error,\n\u001b[1;32m   1343\u001b[0m     )\n\u001b[1;32m   1344\u001b[0m \u001b[38;5;28;01mexcept\u001b[39;00m (ClientConnectorError, asyncio\u001b[38;5;241m.\u001b[39mTimeoutError) \u001b[38;5;28;01mas\u001b[39;00m exc:\n\u001b[1;32m   1345\u001b[0m     last_exc \u001b[38;5;241m=\u001b[39m exc\n",
      "File \u001b[0;32m~/miniconda3/envs/mlsys/lib/python3.11/site-packages/aiohttp/connector.py:1106\u001b[0m, in \u001b[0;36mTCPConnector._wrap_create_connection\u001b[0;34m(self, addr_infos, req, timeout, client_error, *args, **kwargs)\u001b[0m\n\u001b[1;32m   1104\u001b[0m \u001b[38;5;28;01mif\u001b[39;00m exc\u001b[38;5;241m.\u001b[39merrno \u001b[38;5;129;01mis\u001b[39;00m \u001b[38;5;28;01mNone\u001b[39;00m \u001b[38;5;129;01mand\u001b[39;00m \u001b[38;5;28misinstance\u001b[39m(exc, asyncio\u001b[38;5;241m.\u001b[39mTimeoutError):\n\u001b[1;32m   1105\u001b[0m     \u001b[38;5;28;01mraise\u001b[39;00m\n\u001b[0;32m-> 1106\u001b[0m \u001b[38;5;28;01mraise\u001b[39;00m client_error(req\u001b[38;5;241m.\u001b[39mconnection_key, exc) \u001b[38;5;28;01mfrom\u001b[39;00m \u001b[38;5;21;01mexc\u001b[39;00m\n",
      "\u001b[0;31mClientConnectorError\u001b[0m: Cannot connect to host localhost:8000 ssl:default [Multiple exceptions: [Errno 61] Connect call failed ('::1', 8000, 0, 0), [Errno 61] Connect call failed ('127.0.0.1', 8000)]"
     ]
    },
    {
     "name": "stdout",
     "output_type": "stream",
     "text": [
      "Submitting test case: What is the capital of France? And what is the capital of Canada?\n",
      "Submitting test case: Explain quantum computing in 50 words.\n",
      "Submitting test case: Write a poem about spring.\n",
      "Submitting test case: Hello, how are you?\n"
     ]
    }
   ],
   "source": [
    "\n",
    "async def main():\n",
    "    test_cases = [\n",
    "        {\"prompt\": \"Hello, how are you?\"},\n",
    "        {\"prompt\": \"What is the capital of France? And what is the capital of Canada?\"},\n",
    "        {\"prompt\": \"Write a poem about spring.\"},\n",
    "        {\"prompt\": \"Explain quantum computing in 50 words.\"},\n",
    "        {\"prompt\": \"Write a recipe for chocolate cake.\"},\n",
    "    ]\n",
    "\n",
    "    print(f\"Starting test with {len(test_cases)} test cases...\")\n",
    "    start_time = time.time()\n",
    "\n",
    "    async with AsyncLLMServiceTester() as tester:\n",
    "        # create submit coroutines\n",
    "        submit_coroutines = [\n",
    "            tester.process_test_case(test_case) for test_case in test_cases\n",
    "        ]\n",
    "\n",
    "        # run all submit coroutines\n",
    "        results = await asyncio.gather(*submit_coroutines)\n",
    "\n",
    "    total_time = time.time() - start_time\n",
    "\n",
    "    # print results\n",
    "    for i, result in enumerate(results, 1):\n",
    "        print(f\"\\n=== Test Case {i} ===\")\n",
    "        print(f\"Prompt: {result['test_case']['prompt']}\")\n",
    "        print(f\"Time taken: {result['time_taken']:.2f} seconds\")\n",
    "        print(f\"Status: {result['result']['status']}\")\n",
    "        print(f\"Response: {result['result']['text']}\")\n",
    "        print(\"=\" * 50)\n",
    "\n",
    "    print(f\"\\nTest Summary:\")\n",
    "    print(f\"Total time: {total_time:.2f} seconds\")\n",
    "    print(f\"Average time per request: {total_time/len(test_cases):.2f} seconds\")\n",
    "    print(f\"{'='*50}\\n\")\n",
    "\n",
    "\n",
    "await main()"
   ]
  },
  {
   "cell_type": "code",
   "execution_count": null,
   "metadata": {},
   "outputs": [],
   "source": []
  }
 ],
 "metadata": {
  "kernelspec": {
   "display_name": "hw4",
   "language": "python",
   "name": "python3"
  },
  "language_info": {
   "codemirror_mode": {
    "name": "ipython",
    "version": 3
   },
   "file_extension": ".py",
   "mimetype": "text/x-python",
   "name": "python",
   "nbconvert_exporter": "python",
   "pygments_lexer": "ipython3",
   "version": "3.11.9"
  }
 },
 "nbformat": 4,
 "nbformat_minor": 2
}
