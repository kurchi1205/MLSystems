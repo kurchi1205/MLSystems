{
 "cells": [
  {
   "cell_type": "markdown",
   "metadata": {},
   "source": [
    "Usage:\n",
    "1. Run `python api.py --init-quota 200 --max-generated-tokens 50` to start the server.\n",
    "2. Run this script to test the server.\n",
    "\n",
    "You MUST keep the logs of this file in your submission."
   ]
  },
  {
   "cell_type": "code",
   "execution_count": 1,
   "metadata": {},
   "outputs": [],
   "source": [
    "import asyncio\n",
    "import random\n",
    "import time\n",
    "import aiohttp\n",
    "from typing import Dict"
   ]
  },
  {
   "cell_type": "code",
   "execution_count": 2,
   "metadata": {},
   "outputs": [],
   "source": [
    "\n",
    "\n",
    "class AsyncLLMServiceTester:\n",
    "    def __init__(self, base_url: str = \"http://localhost:8000\"):\n",
    "        self.base_url = base_url.rstrip(\"/\")\n",
    "        self.session = None\n",
    "\n",
    "    async def __aenter__(self):\n",
    "        self.session = aiohttp.ClientSession()\n",
    "        return self\n",
    "\n",
    "    async def __aexit__(self, exc_type, exc_val, exc_tb):\n",
    "        if self.session:\n",
    "            await self.session.close()\n",
    "\n",
    "    async def generate(self, prompt: str) -> Dict:\n",
    "        \"\"\"generate response\"\"\"\n",
    "        # TODO: generate function call\n",
    "        # you need to post a request to the server\n",
    "        # and parse the response in async way\n",
    "        # the response is a json with the following format:\n",
    "        # {\n",
    "        #     \"status\": \"success\" or \"error\",\n",
    "        #     \"text\": \"the generated text\"\n",
    "        # }\n",
    "        # ==== start your code here ====\n",
    "        data = {\n",
    "            \"prompt\": prompt\n",
    "        }\n",
    "        async with self.session.post(self.base_url + \"/generate\", json=data) as response:\n",
    "            status = response.status\n",
    "            text = await response.text()\n",
    "            result = {\n",
    "                \"status\": status,\n",
    "                \"text\": text\n",
    "            }\n",
    "        return result\n",
    "        # ==== end of your code ====\n",
    "\n",
    "    async def process_test_case(self, test_case: Dict) -> Dict:\n",
    "        \"\"\"Process a single test case\"\"\"\n",
    "\n",
    "        await asyncio.sleep(random.uniform(0, 2))  # random delay\n",
    "        print(f\"Submitting test case: {test_case['prompt']}\")\n",
    "\n",
    "        start_time = time.time()\n",
    "        result = await self.generate(test_case[\"prompt\"])\n",
    "        end_time = time.time()\n",
    "\n",
    "        return {\n",
    "            \"test_case\": test_case,\n",
    "            \"result\": result,\n",
    "            \"time_taken\": end_time - start_time,\n",
    "        }"
   ]
  },
  {
   "cell_type": "code",
   "execution_count": 4,
   "metadata": {},
   "outputs": [
    {
     "name": "stdout",
     "output_type": "stream",
     "text": [
      "Starting test with 5 test cases...\n",
      "Submitting test case: What is the capital of France? And what is the capital of Canada?\n",
      "Submitting test case: Explain quantum computing in 50 words.\n",
      "Submitting test case: Hello, how are you?\n",
      "Submitting test case: Write a recipe for chocolate cake.\n",
      "Submitting test case: Write a poem about spring.\n"
     ]
    },
    {
     "ename": "TimeoutError",
     "evalue": "",
     "output_type": "error",
     "traceback": [
      "\u001b[0;31m---------------------------------------------------------------------------\u001b[0m",
      "\u001b[0;31mCancelledError\u001b[0m                            Traceback (most recent call last)",
      "File \u001b[0;32m/root/miniconda3/lib/python3.12/site-packages/aiohttp/client_reqrep.py:1058\u001b[0m, in \u001b[0;36mClientResponse.start\u001b[0;34m(self, connection)\u001b[0m\n\u001b[1;32m   1057\u001b[0m     protocol \u001b[38;5;241m=\u001b[39m \u001b[38;5;28mself\u001b[39m\u001b[38;5;241m.\u001b[39m_protocol\n\u001b[0;32m-> 1058\u001b[0m     message, payload \u001b[38;5;241m=\u001b[39m \u001b[38;5;28;01mawait\u001b[39;00m protocol\u001b[38;5;241m.\u001b[39mread()  \u001b[38;5;66;03m# type: ignore[union-attr]\u001b[39;00m\n\u001b[1;32m   1059\u001b[0m \u001b[38;5;28;01mexcept\u001b[39;00m http\u001b[38;5;241m.\u001b[39mHttpProcessingError \u001b[38;5;28;01mas\u001b[39;00m exc:\n",
      "File \u001b[0;32m/root/miniconda3/lib/python3.12/site-packages/aiohttp/streams.py:643\u001b[0m, in \u001b[0;36mDataQueue.read\u001b[0;34m(self)\u001b[0m\n\u001b[1;32m    642\u001b[0m \u001b[38;5;28;01mtry\u001b[39;00m:\n\u001b[0;32m--> 643\u001b[0m     \u001b[38;5;28;01mawait\u001b[39;00m \u001b[38;5;28mself\u001b[39m\u001b[38;5;241m.\u001b[39m_waiter\n\u001b[1;32m    644\u001b[0m \u001b[38;5;28;01mexcept\u001b[39;00m (asyncio\u001b[38;5;241m.\u001b[39mCancelledError, asyncio\u001b[38;5;241m.\u001b[39mTimeoutError):\n",
      "\u001b[0;31mCancelledError\u001b[0m: ",
      "\nThe above exception was the direct cause of the following exception:\n",
      "\u001b[0;31mTimeoutError\u001b[0m                              Traceback (most recent call last)",
      "Cell \u001b[0;32mIn[4], line 39\u001b[0m\n\u001b[1;32m     35\u001b[0m     \u001b[38;5;28mprint\u001b[39m(\u001b[38;5;124mf\u001b[39m\u001b[38;5;124m\"\u001b[39m\u001b[38;5;124mAverage time per request: \u001b[39m\u001b[38;5;132;01m{\u001b[39;00mtotal_time\u001b[38;5;241m/\u001b[39m\u001b[38;5;28mlen\u001b[39m(test_cases)\u001b[38;5;132;01m:\u001b[39;00m\u001b[38;5;124m.2f\u001b[39m\u001b[38;5;132;01m}\u001b[39;00m\u001b[38;5;124m seconds\u001b[39m\u001b[38;5;124m\"\u001b[39m)\n\u001b[1;32m     36\u001b[0m     \u001b[38;5;28mprint\u001b[39m(\u001b[38;5;124mf\u001b[39m\u001b[38;5;124m\"\u001b[39m\u001b[38;5;132;01m{\u001b[39;00m\u001b[38;5;124m'\u001b[39m\u001b[38;5;124m=\u001b[39m\u001b[38;5;124m'\u001b[39m\u001b[38;5;241m*\u001b[39m\u001b[38;5;241m50\u001b[39m\u001b[38;5;132;01m}\u001b[39;00m\u001b[38;5;130;01m\\n\u001b[39;00m\u001b[38;5;124m\"\u001b[39m)\n\u001b[0;32m---> 39\u001b[0m \u001b[38;5;28;01mawait\u001b[39;00m main()\n",
      "Cell \u001b[0;32mIn[4], line 20\u001b[0m, in \u001b[0;36mmain\u001b[0;34m()\u001b[0m\n\u001b[1;32m     15\u001b[0m     submit_coroutines \u001b[38;5;241m=\u001b[39m [\n\u001b[1;32m     16\u001b[0m         tester\u001b[38;5;241m.\u001b[39mprocess_test_case(test_case) \u001b[38;5;28;01mfor\u001b[39;00m test_case \u001b[38;5;129;01min\u001b[39;00m test_cases\n\u001b[1;32m     17\u001b[0m     ]\n\u001b[1;32m     19\u001b[0m     \u001b[38;5;66;03m# run all submit coroutines\u001b[39;00m\n\u001b[0;32m---> 20\u001b[0m     results \u001b[38;5;241m=\u001b[39m \u001b[38;5;28;01mawait\u001b[39;00m asyncio\u001b[38;5;241m.\u001b[39mgather(\u001b[38;5;241m*\u001b[39msubmit_coroutines)\n\u001b[1;32m     22\u001b[0m total_time \u001b[38;5;241m=\u001b[39m time\u001b[38;5;241m.\u001b[39mtime() \u001b[38;5;241m-\u001b[39m start_time\n\u001b[1;32m     24\u001b[0m \u001b[38;5;66;03m# print results\u001b[39;00m\n",
      "Cell \u001b[0;32mIn[2], line 45\u001b[0m, in \u001b[0;36mAsyncLLMServiceTester.process_test_case\u001b[0;34m(self, test_case)\u001b[0m\n\u001b[1;32m     42\u001b[0m \u001b[38;5;28mprint\u001b[39m(\u001b[38;5;124mf\u001b[39m\u001b[38;5;124m\"\u001b[39m\u001b[38;5;124mSubmitting test case: \u001b[39m\u001b[38;5;132;01m{\u001b[39;00mtest_case[\u001b[38;5;124m'\u001b[39m\u001b[38;5;124mprompt\u001b[39m\u001b[38;5;124m'\u001b[39m]\u001b[38;5;132;01m}\u001b[39;00m\u001b[38;5;124m\"\u001b[39m)\n\u001b[1;32m     44\u001b[0m start_time \u001b[38;5;241m=\u001b[39m time\u001b[38;5;241m.\u001b[39mtime()\n\u001b[0;32m---> 45\u001b[0m result \u001b[38;5;241m=\u001b[39m \u001b[38;5;28;01mawait\u001b[39;00m \u001b[38;5;28mself\u001b[39m\u001b[38;5;241m.\u001b[39mgenerate(test_case[\u001b[38;5;124m\"\u001b[39m\u001b[38;5;124mprompt\u001b[39m\u001b[38;5;124m\"\u001b[39m])\n\u001b[1;32m     46\u001b[0m end_time \u001b[38;5;241m=\u001b[39m time\u001b[38;5;241m.\u001b[39mtime()\n\u001b[1;32m     48\u001b[0m \u001b[38;5;28;01mreturn\u001b[39;00m {\n\u001b[1;32m     49\u001b[0m     \u001b[38;5;124m\"\u001b[39m\u001b[38;5;124mtest_case\u001b[39m\u001b[38;5;124m\"\u001b[39m: test_case,\n\u001b[1;32m     50\u001b[0m     \u001b[38;5;124m\"\u001b[39m\u001b[38;5;124mresult\u001b[39m\u001b[38;5;124m\"\u001b[39m: result,\n\u001b[1;32m     51\u001b[0m     \u001b[38;5;124m\"\u001b[39m\u001b[38;5;124mtime_taken\u001b[39m\u001b[38;5;124m\"\u001b[39m: end_time \u001b[38;5;241m-\u001b[39m start_time,\n\u001b[1;32m     52\u001b[0m }\n",
      "Cell \u001b[0;32mIn[2], line 28\u001b[0m, in \u001b[0;36mAsyncLLMServiceTester.generate\u001b[0;34m(self, prompt)\u001b[0m\n\u001b[1;32m     16\u001b[0m \u001b[38;5;66;03m# TODO: generate function call\u001b[39;00m\n\u001b[1;32m     17\u001b[0m \u001b[38;5;66;03m# you need to post a request to the server\u001b[39;00m\n\u001b[1;32m     18\u001b[0m \u001b[38;5;66;03m# and parse the response in async way\u001b[39;00m\n\u001b[0;32m   (...)\u001b[0m\n\u001b[1;32m     23\u001b[0m \u001b[38;5;66;03m# }\u001b[39;00m\n\u001b[1;32m     24\u001b[0m \u001b[38;5;66;03m# ==== start your code here ====\u001b[39;00m\n\u001b[1;32m     25\u001b[0m data \u001b[38;5;241m=\u001b[39m {\n\u001b[1;32m     26\u001b[0m     \u001b[38;5;124m\"\u001b[39m\u001b[38;5;124mprompt\u001b[39m\u001b[38;5;124m\"\u001b[39m: prompt\n\u001b[1;32m     27\u001b[0m }\n\u001b[0;32m---> 28\u001b[0m \u001b[38;5;28;01masync\u001b[39;00m \u001b[38;5;28;01mwith\u001b[39;00m \u001b[38;5;28mself\u001b[39m\u001b[38;5;241m.\u001b[39msession\u001b[38;5;241m.\u001b[39mpost(\u001b[38;5;28mself\u001b[39m\u001b[38;5;241m.\u001b[39mbase_url \u001b[38;5;241m+\u001b[39m \u001b[38;5;124m\"\u001b[39m\u001b[38;5;124m/generate\u001b[39m\u001b[38;5;124m\"\u001b[39m, json\u001b[38;5;241m=\u001b[39mdata) \u001b[38;5;28;01mas\u001b[39;00m response:\n\u001b[1;32m     29\u001b[0m     status \u001b[38;5;241m=\u001b[39m response\u001b[38;5;241m.\u001b[39mstatus\n\u001b[1;32m     30\u001b[0m     text \u001b[38;5;241m=\u001b[39m \u001b[38;5;28;01mawait\u001b[39;00m response\u001b[38;5;241m.\u001b[39mtext()\n",
      "File \u001b[0;32m/root/miniconda3/lib/python3.12/site-packages/aiohttp/client.py:1359\u001b[0m, in \u001b[0;36m_BaseRequestContextManager.__aenter__\u001b[0;34m(self)\u001b[0m\n\u001b[1;32m   1358\u001b[0m \u001b[38;5;28;01masync\u001b[39;00m \u001b[38;5;28;01mdef\u001b[39;00m \u001b[38;5;21m__aenter__\u001b[39m(\u001b[38;5;28mself\u001b[39m) \u001b[38;5;241m-\u001b[39m\u001b[38;5;241m>\u001b[39m _RetType:\n\u001b[0;32m-> 1359\u001b[0m     \u001b[38;5;28mself\u001b[39m\u001b[38;5;241m.\u001b[39m_resp: _RetType \u001b[38;5;241m=\u001b[39m \u001b[38;5;28;01mawait\u001b[39;00m \u001b[38;5;28mself\u001b[39m\u001b[38;5;241m.\u001b[39m_coro\n\u001b[1;32m   1360\u001b[0m     \u001b[38;5;28;01mreturn\u001b[39;00m \u001b[38;5;28;01mawait\u001b[39;00m \u001b[38;5;28mself\u001b[39m\u001b[38;5;241m.\u001b[39m_resp\u001b[38;5;241m.\u001b[39m\u001b[38;5;21m__aenter__\u001b[39m()\n",
      "File \u001b[0;32m/root/miniconda3/lib/python3.12/site-packages/aiohttp/client.py:690\u001b[0m, in \u001b[0;36mClientSession._request\u001b[0;34m(self, method, str_or_url, params, data, json, cookies, headers, skip_auto_headers, auth, allow_redirects, max_redirects, compress, chunked, expect100, raise_for_status, read_until_eof, proxy, proxy_auth, timeout, verify_ssl, fingerprint, ssl_context, ssl, server_hostname, proxy_headers, trace_request_ctx, read_bufsize, auto_decompress, max_line_size, max_field_size)\u001b[0m\n\u001b[1;32m    688\u001b[0m resp \u001b[38;5;241m=\u001b[39m \u001b[38;5;28;01mawait\u001b[39;00m req\u001b[38;5;241m.\u001b[39msend(conn)\n\u001b[1;32m    689\u001b[0m \u001b[38;5;28;01mtry\u001b[39;00m:\n\u001b[0;32m--> 690\u001b[0m     \u001b[38;5;28;01mawait\u001b[39;00m resp\u001b[38;5;241m.\u001b[39mstart(conn)\n\u001b[1;32m    691\u001b[0m \u001b[38;5;28;01mexcept\u001b[39;00m \u001b[38;5;167;01mBaseException\u001b[39;00m:\n\u001b[1;32m    692\u001b[0m     resp\u001b[38;5;241m.\u001b[39mclose()\n",
      "File \u001b[0;32m/root/miniconda3/lib/python3.12/site-packages/aiohttp/client_reqrep.py:1053\u001b[0m, in \u001b[0;36mClientResponse.start\u001b[0;34m(self, connection)\u001b[0m\n\u001b[1;32m   1050\u001b[0m \u001b[38;5;28mself\u001b[39m\u001b[38;5;241m.\u001b[39m_protocol \u001b[38;5;241m=\u001b[39m connection\u001b[38;5;241m.\u001b[39mprotocol\n\u001b[1;32m   1051\u001b[0m \u001b[38;5;28mself\u001b[39m\u001b[38;5;241m.\u001b[39m_connection \u001b[38;5;241m=\u001b[39m connection\n\u001b[0;32m-> 1053\u001b[0m \u001b[43m\u001b[49m\u001b[38;5;28;43;01mwith\u001b[39;49;00m\u001b[43m \u001b[49m\u001b[38;5;28;43mself\u001b[39;49m\u001b[38;5;241;43m.\u001b[39;49m\u001b[43m_timer\u001b[49m\u001b[43m:\u001b[49m\n\u001b[1;32m   1054\u001b[0m \u001b[43m    \u001b[49m\u001b[38;5;28;43;01mwhile\u001b[39;49;00m\u001b[43m \u001b[49m\u001b[38;5;28;43;01mTrue\u001b[39;49;00m\u001b[43m:\u001b[49m\n\u001b[1;32m   1055\u001b[0m \u001b[43m        \u001b[49m\u001b[38;5;66;43;03m# read response\u001b[39;49;00m\n\u001b[1;32m   1056\u001b[0m \u001b[43m        \u001b[49m\u001b[38;5;28;43;01mtry\u001b[39;49;00m\u001b[43m:\u001b[49m\n",
      "File \u001b[0;32m/root/miniconda3/lib/python3.12/site-packages/aiohttp/helpers.py:749\u001b[0m, in \u001b[0;36mTimerContext.__exit__\u001b[0;34m(self, exc_type, exc_val, exc_tb)\u001b[0m\n\u001b[1;32m    747\u001b[0m         \u001b[38;5;28;01mif\u001b[39;00m enter_task\u001b[38;5;241m.\u001b[39muncancel() \u001b[38;5;241m>\u001b[39m \u001b[38;5;28mself\u001b[39m\u001b[38;5;241m.\u001b[39m_cancelling:\n\u001b[1;32m    748\u001b[0m             \u001b[38;5;28;01mreturn\u001b[39;00m \u001b[38;5;28;01mNone\u001b[39;00m\n\u001b[0;32m--> 749\u001b[0m     \u001b[38;5;28;01mraise\u001b[39;00m asyncio\u001b[38;5;241m.\u001b[39mTimeoutError \u001b[38;5;28;01mfrom\u001b[39;00m \u001b[38;5;21;01mexc_val\u001b[39;00m\n\u001b[1;32m    750\u001b[0m \u001b[38;5;28;01mreturn\u001b[39;00m \u001b[38;5;28;01mNone\u001b[39;00m\n",
      "\u001b[0;31mTimeoutError\u001b[0m: "
     ]
    }
   ],
   "source": [
    "\n",
    "async def main():\n",
    "    test_cases = [\n",
    "        {\"prompt\": \"Hello, how are you?\"},\n",
    "        {\"prompt\": \"What is the capital of France? And what is the capital of Canada?\"},\n",
    "        {\"prompt\": \"Write a poem about spring.\"},\n",
    "        {\"prompt\": \"Explain quantum computing in 50 words.\"},\n",
    "        {\"prompt\": \"Write a recipe for chocolate cake.\"},\n",
    "    ]\n",
    "\n",
    "    print(f\"Starting test with {len(test_cases)} test cases...\")\n",
    "    start_time = time.time()\n",
    "\n",
    "    async with AsyncLLMServiceTester() as tester:\n",
    "        # create submit coroutines\n",
    "        submit_coroutines = [\n",
    "            tester.process_test_case(test_case) for test_case in test_cases\n",
    "        ]\n",
    "\n",
    "        # run all submit coroutines\n",
    "        results = await asyncio.gather(*submit_coroutines)\n",
    "\n",
    "    total_time = time.time() - start_time\n",
    "\n",
    "    # print results\n",
    "    for i, result in enumerate(results, 1):\n",
    "        print(f\"\\n=== Test Case {i} ===\")\n",
    "        print(f\"Prompt: {result['test_case']['prompt']}\")\n",
    "        print(f\"Time taken: {result['time_taken']:.2f} seconds\")\n",
    "        print(f\"Status: {result['result']['status']}\")\n",
    "        print(f\"Response: {result['result']['text']}\")\n",
    "        print(\"=\" * 50)\n",
    "\n",
    "    print(f\"\\nTest Summary:\")\n",
    "    print(f\"Total time: {total_time:.2f} seconds\")\n",
    "    print(f\"Average time per request: {total_time/len(test_cases):.2f} seconds\")\n",
    "    print(f\"{'='*50}\\n\")\n",
    "\n",
    "\n",
    "await main()"
   ]
  },
  {
   "cell_type": "code",
   "execution_count": null,
   "metadata": {},
   "outputs": [],
   "source": []
  }
 ],
 "metadata": {
  "kernelspec": {
   "display_name": "hw4",
   "language": "python",
   "name": "python3"
  },
  "language_info": {
   "codemirror_mode": {
    "name": "ipython",
    "version": 3
   },
   "file_extension": ".py",
   "mimetype": "text/x-python",
   "name": "python",
   "nbconvert_exporter": "python",
   "pygments_lexer": "ipython3",
   "version": "3.12.2"
  }
 },
 "nbformat": 4,
 "nbformat_minor": 2
}
