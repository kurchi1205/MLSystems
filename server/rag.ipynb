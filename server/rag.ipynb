{
 "cells": [
  {
   "cell_type": "markdown",
   "metadata": {},
   "source": [
    "Usage:\n",
    "1. Run `python api.py` to start the server.\n",
    "2. Run this script to test the server.\n",
    "3. You don't need to consider quota limit for rag.\n",
    "\n",
    "You MUST keep the logs of this file in your submission."
   ]
  },
  {
   "cell_type": "code",
   "execution_count": 6,
   "metadata": {},
   "outputs": [],
   "source": [
    "from typing import Dict\n",
    "\n",
    "import requests\n",
    "import torch\n",
    "import tqdm"
   ]
  },
  {
   "cell_type": "code",
   "execution_count": 7,
   "metadata": {},
   "outputs": [],
   "source": [
    "class Server:\n",
    "    def __init__(self, base_url: str = \"http://localhost:8000\"):\n",
    "        self.base_url = base_url.rstrip(\"/\")\n",
    "\n",
    "    def get_embedding(self, prompt: str) -> Dict:\n",
    "        \"\"\"get embedding\"\"\"\n",
    "        # TODO: get embedding function call\n",
    "        # you need to post a request to the server\n",
    "        # and parse the response in sync way\n",
    "        # the response is a json with the following format:\n",
    "        # {\n",
    "        #     \"embedding\": List[float],\n",
    "        # }\n",
    "        # ==== start your code here ====\n",
    "\n",
    "        return None\n",
    "        # ==== end of your code ====\n",
    "\n",
    "    def generate(self, prompt: str) -> Dict:\n",
    "        \"\"\"generate\"\"\"\n",
    "        # TODO: generate function call\n",
    "        # you need to post a request to the server\n",
    "        # and parse the response in async way\n",
    "        # the response is a json with the following format:\n",
    "        # {\n",
    "        #     \"status\": \"success\" or \"error\",\n",
    "        #     \"text\": \"the generated text\"\n",
    "        # }\n",
    "        # ==== start your code here ====\n",
    "\n",
    "        return None\n",
    "        # ==== end of your code ====\n",
    "\n",
    "\n",
    "server = Server()"
   ]
  },
  {
   "cell_type": "code",
   "execution_count": 8,
   "metadata": {},
   "outputs": [
    {
     "name": "stderr",
     "output_type": "stream",
     "text": [
      "100%|██████████| 318/318 [00:43<00:00,  7.37it/s]\n"
     ]
    }
   ],
   "source": [
    "DATABASE = {}\n",
    "\n",
    "\n",
    "def construct_database(file_path: str):\n",
    "    # TODO: construct database\n",
    "    # you need to read the file and split the file into several paragraphs\n",
    "    # then construct the database by calling the get_embedding function: emb = server.get_embedding(text)[\"embedding\"]\n",
    "    # the database is a dictionary with the following format:\n",
    "    # {\n",
    "    #     \"prompt1\": torch.Tensor of shape [dim,],\n",
    "    #     \"prompt2\": torch.Tensor of shape [dim,],\n",
    "    #     ...\n",
    "    # }\n",
    "    # ==== start your code here ====\n",
    "\n",
    "    pass\n",
    "    # ==== end of your code ====\n",
    "\n",
    "construct_database(\"openai_wiki.txt\")"
   ]
  },
  {
   "cell_type": "code",
   "execution_count": 44,
   "metadata": {},
   "outputs": [
    {
     "name": "stdout",
     "output_type": "stream",
     "text": [
      "Question: When was Sam Altman removed as CEO?\n",
      "\n",
      "RAG Prompt: Context: ```On November 17, 2023, Sam Altman was removed as CEO when its board of directors (composed of Helen Toner, Ilya Sutskever, Adam D'Angelo and Tasha McCauley) cited a lack of confidence in him. Chief Technology Officer Mira Murati took over as interim CEO. Greg Brockman, the president of OpenAI, was also removed as chairman of the board[242][243] and resigned from the company's presidency shortly thereafter.[244] Three senior OpenAI researchers subsequently resigned: director of research and GPT-4 lead Jakub Pachocki, head of AI risk Aleksander Madry, and researcher Szymon Sidor.[245][246]\n",
      "Further information: Removal of Sam Altman from OpenAI\n",
      "On June 13, 2024, OpenAI announced that Paul Nakasone, the former head of the NSA was joining the company's board of directors. Nakasone also joined the company's security subcommittee.[95]\n",
      "In October 2023, Sam Altman and Peng Xiao, CEO of the Emirati AI firm G42, announced Open AI would let G42 deploy Open AI technology.[67]\n",
      "On November 18, 2023, there were reportedly talks of Altman returning as CEO amid pressure placed upon the board by investors such as Microsoft and Thrive Capital, who objected to Altman's departure.[247] Although Altman himself spoke in favor of returning to OpenAI, he has since stated that he considered starting a new company and bringing former OpenAI employees with him if talks to reinstate him didn't work out.[248] The board members agreed \"in principle\" to resign if Altman returned.[249] On November 19, 2023, negotiations with Altman to return failed and Murati was replaced by Emmett Shear as interim CEO.[250] The board initially contacted Anthropic CEO Dario Amodei (a former OpenAI executive) about replacing Altman, and proposed a merger of the two companies, but both offers were declined.[251]\n",
      "```\n",
      "Based on these context, answer: When was Sam Altman removed as CEO?\n",
      "\n",
      "Answer:  \n",
      "The answer is: November 17, 2023.\n"
     ]
    }
   ],
   "source": [
    "def cosine_similarity(a: torch.Tensor, b: torch.Tensor) -> float:\n",
    "    # TODO: cosine similarity function\n",
    "    # you need to calculate the cosine similarity between two tensors\n",
    "    # ==== start your code here ====\n",
    "\n",
    "    return 0\n",
    "    # ==== end of your code ====\n",
    "\n",
    "\n",
    "def rag(prompt: str):\n",
    "    prompt_embedding = torch.tensor(server.get_embedding(prompt)[\"embedding\"]).cuda()\n",
    "\n",
    "    topk = 5\n",
    "    # TODO: rag prompt\n",
    "    # you first need to find the topk similar prompt in the database by calculating the cosine similarity\n",
    "    # then you need to construct the rag prompt by adding the topk similar prompt with the original prompt\n",
    "    # ==== start your code here ====\n",
    "\n",
    "    rag_prompt = \"\"\n",
    "    # ==== end of your code ====\n",
    "\n",
    "    answer = server.generate(rag_prompt)['text']\n",
    "    print(f\"Question: {prompt}\\n\\nRAG Prompt: {rag_prompt}\\n\\nAnswer: {answer}\")\n",
    "\n",
    "rag(\"When was Sam Altman removed as CEO?\")\n"
   ]
  }
 ],
 "metadata": {
  "kernelspec": {
   "display_name": "hw4",
   "language": "python",
   "name": "python3"
  },
  "language_info": {
   "codemirror_mode": {
    "name": "ipython",
    "version": 3
   },
   "file_extension": ".py",
   "mimetype": "text/x-python",
   "name": "python",
   "nbconvert_exporter": "python",
   "pygments_lexer": "ipython3",
   "version": "3.10.15"
  }
 },
 "nbformat": 4,
 "nbformat_minor": 2
}
